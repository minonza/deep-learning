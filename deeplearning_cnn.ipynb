{
  "nbformat": 4,
  "nbformat_minor": 0,
  "metadata": {
    "colab": {
      "provenance": []
    },
    "kernelspec": {
      "name": "python3",
      "display_name": "Python 3"
    },
    "language_info": {
      "name": "python"
    }
  },
  "cells": [
    {
      "cell_type": "code",
      "execution_count": null,
      "metadata": {
        "id": "oEF8pdfkryzw"
      },
      "outputs": [],
      "source": [
        "import tensorflow as tf\n",
        "from keras.preprocessing.image import ImageDataGenerator"
      ]
    },
    {
      "cell_type": "code",
      "source": [
        "tf.__version__"
      ],
      "metadata": {
        "colab": {
          "base_uri": "https://localhost:8080/",
          "height": 36
        },
        "id": "PTooHo0Z9Mu6",
        "outputId": "aef8c389-239c-44da-91c5-7122b218a59f"
      },
      "execution_count": null,
      "outputs": [
        {
          "output_type": "execute_result",
          "data": {
            "text/plain": [
              "'2.9.2'"
            ],
            "application/vnd.google.colaboratory.intrinsic+json": {
              "type": "string"
            }
          },
          "metadata": {},
          "execution_count": 3
        }
      ]
    },
    {
      "cell_type": "code",
      "source": [
        "train_datagen = ImageDataGenerator(rescale = 1./255,\n",
        "                                   shear_range = 0.2,\n",
        "                                   zoom_range = 0.2,\n",
        "                                   horizontal_flip = True)\n",
        "training_set = train_datagen.flow_from_directory('/content/sample_data/test_set',\n",
        "                                                 target_size = (64, 64),\n",
        "                                                 batch_size = 32,\n",
        "                                                 class_mode = 'binary')"
      ],
      "metadata": {
        "colab": {
          "base_uri": "https://localhost:8080/"
        },
        "id": "YJZF07kw9Rka",
        "outputId": "2cbc7bba-b5eb-4794-985e-45893948585d"
      },
      "execution_count": null,
      "outputs": [
        {
          "output_type": "stream",
          "name": "stdout",
          "text": [
            "Found 2023 images belonging to 1 classes.\n"
          ]
        }
      ]
    },
    {
      "cell_type": "code",
      "source": [
        "!unzip -uq \"/content/sample_data/training_set.zip\" -d \"/content/sample_data/training_set\""
      ],
      "metadata": {
        "colab": {
          "base_uri": "https://localhost:8080/"
        },
        "id": "gKbhJVUqTyja",
        "outputId": "945d20cf-2349-478d-f328-7eecb53e6976"
      },
      "execution_count": null,
      "outputs": [
        {
          "output_type": "stream",
          "name": "stdout",
          "text": [
            "warning [/content/sample_data/training_set.zip]:  1048576 extra bytes at beginning or within zipfile\n",
            "  (attempting to process anyway)\n",
            "file #1:  bad zipfile offset (local header sig):  1048576\n",
            "  (attempting to re-compensate)\n",
            "error: invalid zip file with overlapped components (possible zip bomb)\n"
          ]
        }
      ]
    },
    {
      "cell_type": "code",
      "source": [
        "!unzip -uq \"/content/sample_data/test_set.zip\" -d \"/content/sample_data/test_set\""
      ],
      "metadata": {
        "id": "dmluMU3cVBrP"
      },
      "execution_count": null,
      "outputs": []
    },
    {
      "cell_type": "code",
      "source": [
        "test_datagen = ImageDataGenerator(rescale = 1./255)\n",
        "test_set = test_datagen.flow_from_directory('/content/sample_data/test_set/test_set',\n",
        "                                            target_size = (64, 64),\n",
        "                                            batch_size = 32,\n",
        "                                            class_mode = 'binary')"
      ],
      "metadata": {
        "colab": {
          "base_uri": "https://localhost:8080/"
        },
        "id": "QSvtSIvlVdmj",
        "outputId": "fbd56cd7-a85b-44e0-b87e-e2db6ba35aa1"
      },
      "execution_count": null,
      "outputs": [
        {
          "output_type": "stream",
          "name": "stdout",
          "text": [
            "Found 2023 images belonging to 2 classes.\n"
          ]
        }
      ]
    },
    {
      "cell_type": "code",
      "source": [
        "cnn = tf.keras.models.Sequential()"
      ],
      "metadata": {
        "id": "ykOuCIlMXNn5"
      },
      "execution_count": null,
      "outputs": []
    },
    {
      "cell_type": "code",
      "source": [
        "cnn.add(tf.keras.layers.Conv2D(filters=32, kernel_size=3, activation='relu', input_shape=[64, 64, 3]))"
      ],
      "metadata": {
        "id": "b3jBHZb9YB18"
      },
      "execution_count": null,
      "outputs": []
    },
    {
      "cell_type": "code",
      "source": [
        "cnn.add(tf.keras.layers.MaxPool2D(pool_size=2, strides=2))"
      ],
      "metadata": {
        "id": "tdRe8RnuYGKC"
      },
      "execution_count": null,
      "outputs": []
    },
    {
      "cell_type": "code",
      "source": [
        "cnn.add(tf.keras.layers.Conv2D(filters=32, kernel_size=3, activation='relu'))\n",
        "cnn.add(tf.keras.layers.MaxPool2D(pool_size=2, strides=2))"
      ],
      "metadata": {
        "id": "31UXl7M-Yp-3"
      },
      "execution_count": null,
      "outputs": []
    },
    {
      "cell_type": "code",
      "source": [
        "cnn.add(tf.keras.layers.Flatten())"
      ],
      "metadata": {
        "id": "TNcRXRcCYtzk"
      },
      "execution_count": null,
      "outputs": []
    },
    {
      "cell_type": "code",
      "source": [
        "cnn.add(tf.keras.layers.Dense(units=128, activation='relu'))"
      ],
      "metadata": {
        "id": "iZ-I_MTtYx6W"
      },
      "execution_count": null,
      "outputs": []
    },
    {
      "cell_type": "code",
      "source": [
        "cnn.add(tf.keras.layers.Dense(units=1, activation='sigmoid'))"
      ],
      "metadata": {
        "id": "qf-3pW_FY3wm"
      },
      "execution_count": null,
      "outputs": []
    },
    {
      "cell_type": "code",
      "source": [
        "cnn.compile(optimizer = 'adam', loss = 'binary_crossentropy', metrics = ['accuracy'])"
      ],
      "metadata": {
        "id": "xVm8yGNEY6Og"
      },
      "execution_count": null,
      "outputs": []
    },
    {
      "cell_type": "code",
      "source": [
        "cnn.fit(x = training_set, validation_data = test_set, epochs = 25)"
      ],
      "metadata": {
        "colab": {
          "base_uri": "https://localhost:8080/"
        },
        "id": "JT71p-JjY9vD",
        "outputId": "96d71cb0-12f4-4f41-9828-29445ee2a26f"
      },
      "execution_count": null,
      "outputs": [
        {
          "output_type": "stream",
          "name": "stdout",
          "text": [
            "Epoch 1/25\n",
            "64/64 [==============================] - 25s 371ms/step - loss: 0.0128 - accuracy: 0.9951 - val_loss: 40.8412 - val_accuracy: 0.4998\n",
            "Epoch 2/25\n",
            "64/64 [==============================] - 23s 363ms/step - loss: 1.2132e-15 - accuracy: 1.0000 - val_loss: 41.0176 - val_accuracy: 0.4998\n",
            "Epoch 3/25\n",
            "64/64 [==============================] - 23s 362ms/step - loss: 1.9159e-16 - accuracy: 1.0000 - val_loss: 41.0178 - val_accuracy: 0.4998\n",
            "Epoch 4/25\n",
            "64/64 [==============================] - 25s 385ms/step - loss: 8.8865e-16 - accuracy: 1.0000 - val_loss: 41.0178 - val_accuracy: 0.4998\n",
            "Epoch 5/25\n",
            "64/64 [==============================] - 26s 414ms/step - loss: 2.2402e-17 - accuracy: 1.0000 - val_loss: 41.0178 - val_accuracy: 0.4998\n",
            "Epoch 6/25\n",
            "64/64 [==============================] - 23s 361ms/step - loss: 2.9531e-16 - accuracy: 1.0000 - val_loss: 41.0178 - val_accuracy: 0.4998\n",
            "Epoch 7/25\n",
            "64/64 [==============================] - 23s 361ms/step - loss: 7.1295e-16 - accuracy: 1.0000 - val_loss: 41.0178 - val_accuracy: 0.4998\n",
            "Epoch 8/25\n",
            "64/64 [==============================] - 23s 356ms/step - loss: 2.4756e-16 - accuracy: 1.0000 - val_loss: 41.0178 - val_accuracy: 0.4998\n",
            "Epoch 9/25\n",
            "64/64 [==============================] - 24s 381ms/step - loss: 1.8692e-16 - accuracy: 1.0000 - val_loss: 41.0178 - val_accuracy: 0.4998\n",
            "Epoch 10/25\n",
            "64/64 [==============================] - 23s 360ms/step - loss: 7.0527e-16 - accuracy: 1.0000 - val_loss: 41.0178 - val_accuracy: 0.4998\n",
            "Epoch 11/25\n",
            "64/64 [==============================] - 23s 359ms/step - loss: 4.0963e-16 - accuracy: 1.0000 - val_loss: 41.0178 - val_accuracy: 0.4998\n",
            "Epoch 12/25\n",
            "64/64 [==============================] - 23s 360ms/step - loss: 2.2345e-15 - accuracy: 1.0000 - val_loss: 41.0178 - val_accuracy: 0.4998\n",
            "Epoch 13/25\n",
            "64/64 [==============================] - 23s 361ms/step - loss: 8.4725e-18 - accuracy: 1.0000 - val_loss: 41.0178 - val_accuracy: 0.4998\n",
            "Epoch 14/25\n",
            "64/64 [==============================] - 23s 359ms/step - loss: 8.5453e-17 - accuracy: 1.0000 - val_loss: 41.0178 - val_accuracy: 0.4998\n",
            "Epoch 15/25\n",
            "64/64 [==============================] - 23s 358ms/step - loss: 2.0629e-14 - accuracy: 1.0000 - val_loss: 41.0178 - val_accuracy: 0.4998\n",
            "Epoch 16/25\n",
            "64/64 [==============================] - 25s 383ms/step - loss: 1.8006e-16 - accuracy: 1.0000 - val_loss: 41.0178 - val_accuracy: 0.4998\n",
            "Epoch 17/25\n",
            "64/64 [==============================] - 23s 360ms/step - loss: 4.0175e-16 - accuracy: 1.0000 - val_loss: 41.0178 - val_accuracy: 0.4998\n",
            "Epoch 18/25\n",
            "64/64 [==============================] - 23s 358ms/step - loss: 5.8346e-16 - accuracy: 1.0000 - val_loss: 41.0178 - val_accuracy: 0.4998\n",
            "Epoch 19/25\n",
            "64/64 [==============================] - 23s 357ms/step - loss: 1.3866e-15 - accuracy: 1.0000 - val_loss: 41.0178 - val_accuracy: 0.4998\n",
            "Epoch 20/25\n",
            "64/64 [==============================] - 23s 359ms/step - loss: 2.0205e-15 - accuracy: 1.0000 - val_loss: 41.0178 - val_accuracy: 0.4998\n",
            "Epoch 21/25\n",
            "64/64 [==============================] - 23s 357ms/step - loss: 4.5153e-17 - accuracy: 1.0000 - val_loss: 41.0178 - val_accuracy: 0.4998\n",
            "Epoch 22/25\n",
            "64/64 [==============================] - 24s 379ms/step - loss: 5.6521e-17 - accuracy: 1.0000 - val_loss: 41.0178 - val_accuracy: 0.4998\n",
            "Epoch 23/25\n",
            "64/64 [==============================] - 23s 366ms/step - loss: 5.7891e-14 - accuracy: 1.0000 - val_loss: 41.0178 - val_accuracy: 0.4998\n",
            "Epoch 24/25\n",
            "64/64 [==============================] - 23s 364ms/step - loss: 3.2211e-15 - accuracy: 1.0000 - val_loss: 41.0178 - val_accuracy: 0.4998\n",
            "Epoch 25/25\n",
            "64/64 [==============================] - 24s 369ms/step - loss: 1.3639e-15 - accuracy: 1.0000 - val_loss: 41.0178 - val_accuracy: 0.4998\n"
          ]
        },
        {
          "output_type": "execute_result",
          "data": {
            "text/plain": [
              "<keras.callbacks.History at 0x7f23ced8abb0>"
            ]
          },
          "metadata": {},
          "execution_count": 22
        }
      ]
    },
    {
      "cell_type": "code",
      "source": [
        "import numpy as np\n",
        "import tensorflow as tf\n",
        "from keras.preprocessing import image\n",
        "from tensorflow.keras.utils import load_img\n",
        "from tensorflow.keras.utils import img_to_array\n",
        "test_image = tf.keras.utils.load_img('/content/sample_data/test_set/test_set/cats/cat.4003.jpg', target_size = (64, 64))\n",
        "test_image = tf.keras.utils.img_to_array(test_image)\n",
        "test_image = np.expand_dims(test_image, axis = 0)\n",
        "result = cnn.predict(test_image)\n",
        "training_set.class_indices\n",
        "if result[0][0] == 1:\n",
        "  prediction = 'dog'\n",
        "else:\n",
        "  prediction = 'cat'"
      ],
      "metadata": {
        "colab": {
          "base_uri": "https://localhost:8080/"
        },
        "id": "EBD4xvMyZDGR",
        "outputId": "de08aee0-85b1-4c43-ba92-12066dbeae2b"
      },
      "execution_count": null,
      "outputs": [
        {
          "output_type": "stream",
          "name": "stdout",
          "text": [
            "1/1 [==============================] - 0s 101ms/step\n"
          ]
        }
      ]
    },
    {
      "cell_type": "code",
      "source": [
        "print(prediction)"
      ],
      "metadata": {
        "colab": {
          "base_uri": "https://localhost:8080/"
        },
        "id": "aIB6Xr6zZih1",
        "outputId": "9ed83b33-9b0c-4f65-9218-8882c855136e"
      },
      "execution_count": null,
      "outputs": [
        {
          "output_type": "stream",
          "name": "stdout",
          "text": [
            "cat\n"
          ]
        }
      ]
    },
    {
      "cell_type": "code",
      "source": [],
      "metadata": {
        "id": "0-rQ1szWZmSm"
      },
      "execution_count": null,
      "outputs": []
    }
  ]
}