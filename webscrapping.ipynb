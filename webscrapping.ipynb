{
  "nbformat": 4,
  "nbformat_minor": 0,
  "metadata": {
    "colab": {
      "provenance": []
    },
    "kernelspec": {
      "name": "python3",
      "display_name": "Python 3"
    },
    "language_info": {
      "name": "python"
    }
  },
  "cells": [
    {
      "cell_type": "code",
      "execution_count": null,
      "metadata": {
        "id": "vyzdS15UkTYa"
      },
      "outputs": [],
      "source": [
        "import requests\n",
        "import bs4\n"
      ]
    },
    {
      "cell_type": "code",
      "source": [
        "result = requests.get(\"https://altimetrik.udemy.com/course/complete-python-bootcamp/learn/lecture/20345241#overview\")"
      ],
      "metadata": {
        "id": "XXt57TEIkiVU"
      },
      "execution_count": null,
      "outputs": []
    },
    {
      "cell_type": "code",
      "source": [
        "result.text"
      ],
      "metadata": {
        "colab": {
          "base_uri": "https://localhost:8080/",
          "height": 123
        },
        "id": "oXpkmNTVmrD-",
        "outputId": "54b8e62b-dc26-4ae4-948f-2a4018fcb24e"
      },
      "execution_count": null,
      "outputs": [
        {
          "output_type": "execute_result",
          "data": {
            "text/plain": [
              "'<!DOCTYPE html>\\n<html lang=\"en-US\">\\n<head>\\n    <title>Just a moment...</title>\\n    <meta http-equiv=\"Content-Type\" content=\"text/html; charset=UTF-8\">\\n    <meta http-equiv=\"X-UA-Compatible\" content=\"IE=Edge\">\\n    <meta name=\"robots\" content=\"noindex,nofollow\">\\n    <meta name=\"viewport\" content=\"width=device-width,initial-scale=1\">\\n    <link href=\"/cdn-cgi/styles/challenges.css\" rel=\"stylesheet\">\\n    \\n\\n</head>\\n<body class=\"no-js\">\\n    <div class=\"main-wrapper\" role=\"main\">\\n    <div class=\"main-content\">\\n        <h1 class=\"zone-name-title h1\">\\n            <img class=\"heading-favicon\" src=\"/favicon.ico\" alt=\"Icon for altimetrik.udemy.com\"\\n                 onerror=\"this.onerror=null;this.parentNode.removeChild(this)\">\\n            altimetrik.udemy.com\\n        </h1>\\n        <h2 class=\"h2\" id=\"challenge-running\">\\n            Checking if the site connection is secure\\n        </h2>\\n        <noscript>\\n            <div id=\"challenge-error-title\">\\n                <div class=\"h2\">\\n                    <span class=\"icon-wrapper\">\\n                        <div class=\"heading-icon warning-icon\"></div>\\n                    </span>\\n                    <span id=\"challenge-error-text\">\\n                        Enable JavaScript and cookies to continue\\n                    </span>\\n                </div>\\n            </div>\\n        </noscript>\\n        <div id=\"trk_jschal_js\" style=\"display:none;background-image:url(\\'/cdn-cgi/images/trace/managed/nojs/transparent.gif?ray=7923bbf53c8681ab\\')\"></div>\\n        <div id=\"challenge-body-text\" class=\"core-msg spacer\">\\n            altimetrik.udemy.com needs to review the security of your connection before proceeding.\\n        </div>\\n        <form id=\"challenge-form\" action=\"/join/login-popup/?next=/course/complete-python-bootcamp/learn/lecture/20345241&amp;__cf_chl_f_tk=qH6jW35BZtNXVg8GgFPawwlS7fKwT6ftUVFuIlzFYIY-1675181602-0-gaNycGzNCJE\" method=\"POST\" enctype=\"application/x-www-form-urlencoded\">\\n            <input type=\"hidden\" name=\"md\" value=\"K._t7JLmgluovaq7maIgZFK5tcLXUgTyWCDt35y9aGQ-1675181602-0-AXnj7J-Fl_mXKU3q7LMBE3KUKKgt754WkBSAzQVO9YjXTgKMEjme-dw-CruGT2dRrRBA-_osdefwSeRU8xtLfzckBniGe75jGGBdQXHQH7AdvLXIWsuRJA_Q1v-e_d-7Dgm9iWrXEpjAC19kYr6laxdYDSdZEk6bguCwFSfQ2W9Ab7QS7S_VIi6uFs1hFs3pS6jFXZej8oRmtaDMhbsQKUkz4o501Ci-mZzLga4dkrr9zLIGmayJYTTszXqDKy8Fi83NBax_pTV3OKax3abnJsnFlUl54eeVS8oWE8dZxJiosgDv6XtAVurQh_ctmBMbg04Ib-KIFJIn_gsc7-56zBCw_lYHUra6imR9s7-fyMxrHf-M9aTqaqhs2m-fVBqUKeDmkhiZGa4XrbAjFNVb4LdWhX_i6YYolt4u2AYEZ4fZZ09VrmrlHosZ3_PeNROsD0imjyQ5ddYmZ-r3foWh2U_TpxojAgWKcm-99DmUOW0ByhB0ea0fOeCfkib4rQmeDUecHsaNgAhDBxl3ORLiv8-7vYMvTTi9RNIlN1_uRqSJ1hgnOX86VUk7AwkRuCeomgosCfD5gASCZngeg1cK_LqEqNHCJ1jA5RHbvwrHXSMo5BLdbG2qZaoEL4avO7Jvdt_wpaVL7RO098E4eP3_IZta9T_VBrS1_qP_lkMK0rjl\">\\n            <input type=\"hidden\" name=\"r\" value=\"R15WBTtf18gH2f2vI47VqJ2M8jTmI7m41_XeRHZCovo-1675181602-0-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\">\\n        </form>\\n    </div>\\n</div>\\n<script>\\n    (function(){\\n        window._cf_chl_opt={\\n            cvId: \\'2\\',\\n            cZone: \\'altimetrik.udemy.com\\',\\n            cType: \\'managed\\',\\n            cNounce: \\'42997\\',\\n            cRay: \\'7923bbf53c8681ab\\',\\n            cHash: \\'0c3560f9af0548b\\',\\n            cUPMDTk: \"\\\\/join\\\\/login-popup\\\\/?next=\\\\/course\\\\/complete-python-bootcamp\\\\/learn\\\\/lecture\\\\/20345241&__cf_chl_tk=qH6jW35BZtNXVg8GgFPawwlS7fKwT6ftUVFuIlzFYIY-1675181602-0-gaNycGzNCJE\",\\n            cFPWv: \\'g\\',\\n            cTTimeMs: \\'1000\\',\\n            cMTimeMs: \\'0\\',\\n            cTplV: 4,\\n            cTplB: \\'cf\\',\\n            cRq: {\\n                ru: \\'aHR0cHM6Ly9hbHRpbWV0cmlrLnVkZW15LmNvbS9qb2luL2xvZ2luLXBvcHVwLz9uZXh0PS9jb3Vyc2UvY29tcGxldGUtcHl0aG9uLWJvb3RjYW1wL2xlYXJuL2xlY3R1cmUvMjAzNDUyNDE=\\',\\n                ra: \\'cHl0aG9uLXJlcXVlc3RzLzIuMjUuMQ==\\',\\n                rm: \\'R0VU\\',\\n                d: \\'OapGBTfswquZ+3QOLE+d1jAGvMurtZcXICzouhnwKGD+gdfg9rxWtm7zTVXUB23HHK+xaVm0LL3ROgdbCm5lXaW+ktAYMMsEtav/9MDzPbYOAjUtr7HW6Lc4fFxnxQzkglJj0Ce1yonUjauO2a7wBJrqjq9uRKfi7IM3pfbIYilej+1RxK2lTkpKtt8PnIPvIvYyGprraHtDOyHTd6WVSZnv3hsvEmFWrc7Rl7p+puVNVy5nnLcGWQXhWB94EX72nLUFVnKuT+g1zOKfRKvnA+zLij0jscNLXfWtFfs54wX5MLq19qGDBDC0rhN9Bn42K/oL2Nm4qF0TvqixUPFSSmAqI1WB4jxy/ePTbz1MEiSZstBKhJIE2jUh4MeYWFq6Ab2ENlpXc/iQpYd24dx5ng4JevHJZx4b5bOEDqTsywr/w4vI6GPDA18eYatdg7kWvNzAxCRYH02YK02CFwciBSm8MJaLTrh+p00V+VXSPiX64EmE9FT6wNgM/IJcZX0SDZxPw8Opobk6+Wr7kwLoAnpe95Gs/QppHcoOnXAVqfZgvzimUgefs/c8Ro2P7FkM9IyvVS6Dly52Ec+PqnTmMqO/U6JnFNLH3hijGTdsjUQ5ROmU05fk4beznkjtWQyCYdlJss+DlbiV557HmCYqATHBfUBHggcV99lfTvvfIrA=\\',\\n                t: \\'MTY3NTE4MTYwMi4xMTEwMDA=\\',\\n                m: \\'UKRe6U8xeFjrDpPRa7X3ugNyCK3nS3L1uQzSZhE6PK8=\\',\\n                i1: \\'P+14yhbZv+wL3t3RyRgSrA==\\',\\n                i2: \\'MhzwfIoTsDm6+jbP+BGEaA==\\',\\n                zh: \\'lCgCtu48rxtB80JFfWbGDUqLH52EIBQITbR8yEEV6tk=\\',\\n                uh: \\'5GU+jYv2xJ+bCaE/ARmi/DORbiS/v56CW7E0TH4XWQk=\\',\\n                hh: \\'uVEc4i0DDJChrkIgcjtVPn+AX2/h4vHYConRzeV7ll8=\\',\\n            }\\n        };\\n        var trkjs = document.createElement(\\'img\\');\\n        trkjs.setAttribute(\\'src\\', \\'/cdn-cgi/images/trace/managed/js/transparent.gif?ray=7923bbf53c8681ab\\');\\n        trkjs.setAttribute(\\'alt\\', \\'\\');\\n        trkjs.setAttribute(\\'style\\', \\'display: none\\');\\n        document.body.appendChild(trkjs);\\n        var cpo = document.createElement(\\'script\\');\\n        cpo.src = \\'/cdn-cgi/challenge-platform/h/g/orchestrate/managed/v1?ray=7923bbf53c8681ab\\';\\n        window._cf_chl_opt.cOgUHash = location.hash === \\'\\' && location.href.indexOf(\\'#\\') !== -1 ? \\'#\\' : location.hash;\\n        window._cf_chl_opt.cOgUQuery = location.search === \\'\\' && location.href.slice(0, location.href.length - window._cf_chl_opt.cOgUHash.length).indexOf(\\'?\\') !== -1 ? \\'?\\' : location.search;\\n        if (window.history && window.history.replaceState) {\\n            var ogU = location.pathname + window._cf_chl_opt.cOgUQuery + window._cf_chl_opt.cOgUHash;\\n            history.replaceState(null, null, \"\\\\/join\\\\/login-popup\\\\/?next=\\\\/course\\\\/complete-python-bootcamp\\\\/learn\\\\/lecture\\\\/20345241&__cf_chl_rt_tk=qH6jW35BZtNXVg8GgFPawwlS7fKwT6ftUVFuIlzFYIY-1675181602-0-gaNycGzNCJE\" + window._cf_chl_opt.cOgUHash);\\n            cpo.onload = function() {\\n                history.replaceState(null, null, ogU);\\n            };\\n        }\\n        document.getElementsByTagName(\\'head\\')[0].appendChild(cpo);\\n    }());\\n</script>\\n\\n\\n    <div class=\"footer\" role=\"contentinfo\">\\n        <div class=\"footer-inner\">\\n            <div class=\"clearfix diagnostic-wrapper\">\\n                <div class=\"ray-id\">Ray ID: <code>7923bbf53c8681ab</code></div>\\n            </div>\\n            <div class=\"text-center\" id=\"footer-text\">Performance &amp; security by <a rel=\"noopener noreferrer\" href=\"https://www.cloudflare.com?utm_source=challenge&utm_campaign=m\" target=\"_blank\">Cloudflare</a></div>\\n        </div>\\n    </div>\\n</body>\\n</html>\\n'"
            ],
            "application/vnd.google.colaboratory.intrinsic+json": {
              "type": "string"
            }
          },
          "metadata": {},
          "execution_count": 3
        }
      ]
    },
    {
      "cell_type": "code",
      "source": [
        "soup = bs4.BeautifulSoup(result.text,\"lxml\")\n",
        "soup"
      ],
      "metadata": {
        "colab": {
          "base_uri": "https://localhost:8080/"
        },
        "id": "onbEvyXSmv95",
        "outputId": "98907880-1a87-47e4-cdd9-6548761bc37b"
      },
      "execution_count": null,
      "outputs": [
        {
          "output_type": "execute_result",
          "data": {
            "text/plain": [
              "<!DOCTYPE html>\n",
              "<html lang=\"en-US\">\n",
              "<head>\n",
              "<title>Just a moment...</title>\n",
              "<meta content=\"text/html; charset=utf-8\" http-equiv=\"Content-Type\"/>\n",
              "<meta content=\"IE=Edge\" http-equiv=\"X-UA-Compatible\"/>\n",
              "<meta content=\"noindex,nofollow\" name=\"robots\"/>\n",
              "<meta content=\"width=device-width,initial-scale=1\" name=\"viewport\"/>\n",
              "<link href=\"/cdn-cgi/styles/challenges.css\" rel=\"stylesheet\"/>\n",
              "</head>\n",
              "<body class=\"no-js\">\n",
              "<div class=\"main-wrapper\" role=\"main\">\n",
              "<div class=\"main-content\">\n",
              "<h1 class=\"zone-name-title h1\">\n",
              "<img alt=\"Icon for altimetrik.udemy.com\" class=\"heading-favicon\" onerror=\"this.onerror=null;this.parentNode.removeChild(this)\" src=\"/favicon.ico\"/>\n",
              "            altimetrik.udemy.com\n",
              "        </h1>\n",
              "<h2 class=\"h2\" id=\"challenge-running\">\n",
              "            Checking if the site connection is secure\n",
              "        </h2>\n",
              "<noscript>\n",
              "<div id=\"challenge-error-title\">\n",
              "<div class=\"h2\">\n",
              "<span class=\"icon-wrapper\">\n",
              "<div class=\"heading-icon warning-icon\"></div>\n",
              "</span>\n",
              "<span id=\"challenge-error-text\">\n",
              "                        Enable JavaScript and cookies to continue\n",
              "                    </span>\n",
              "</div>\n",
              "</div>\n",
              "</noscript>\n",
              "<div id=\"trk_jschal_js\" style=\"display:none;background-image:url('/cdn-cgi/images/trace/managed/nojs/transparent.gif?ray=7923bbf53c8681ab')\"></div>\n",
              "<div class=\"core-msg spacer\" id=\"challenge-body-text\">\n",
              "            altimetrik.udemy.com needs to review the security of your connection before proceeding.\n",
              "        </div>\n",
              "<form action=\"/join/login-popup/?next=/course/complete-python-bootcamp/learn/lecture/20345241&amp;__cf_chl_f_tk=qH6jW35BZtNXVg8GgFPawwlS7fKwT6ftUVFuIlzFYIY-1675181602-0-gaNycGzNCJE\" enctype=\"application/x-www-form-urlencoded\" id=\"challenge-form\" method=\"POST\">\n",
              "<input name=\"md\" type=\"hidden\" value=\"K._t7JLmgluovaq7maIgZFK5tcLXUgTyWCDt35y9aGQ-1675181602-0-AXnj7J-Fl_mXKU3q7LMBE3KUKKgt754WkBSAzQVO9YjXTgKMEjme-dw-CruGT2dRrRBA-_osdefwSeRU8xtLfzckBniGe75jGGBdQXHQH7AdvLXIWsuRJA_Q1v-e_d-7Dgm9iWrXEpjAC19kYr6laxdYDSdZEk6bguCwFSfQ2W9Ab7QS7S_VIi6uFs1hFs3pS6jFXZej8oRmtaDMhbsQKUkz4o501Ci-mZzLga4dkrr9zLIGmayJYTTszXqDKy8Fi83NBax_pTV3OKax3abnJsnFlUl54eeVS8oWE8dZxJiosgDv6XtAVurQh_ctmBMbg04Ib-KIFJIn_gsc7-56zBCw_lYHUra6imR9s7-fyMxrHf-M9aTqaqhs2m-fVBqUKeDmkhiZGa4XrbAjFNVb4LdWhX_i6YYolt4u2AYEZ4fZZ09VrmrlHosZ3_PeNROsD0imjyQ5ddYmZ-r3foWh2U_TpxojAgWKcm-99DmUOW0ByhB0ea0fOeCfkib4rQmeDUecHsaNgAhDBxl3ORLiv8-7vYMvTTi9RNIlN1_uRqSJ1hgnOX86VUk7AwkRuCeomgosCfD5gASCZngeg1cK_LqEqNHCJ1jA5RHbvwrHXSMo5BLdbG2qZaoEL4avO7Jvdt_wpaVL7RO098E4eP3_IZta9T_VBrS1_qP_lkMK0rjl\"/>\n",
              "<input name=\"r\" type=\"hidden\" value=\"R15WBTtf18gH2f2vI47VqJ2M8jTmI7m41_XeRHZCovo-1675181602-0-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\"/>\n",
              "</form>\n",
              "</div>\n",
              "</div>\n",
              "<script>\n",
              "    (function(){\n",
              "        window._cf_chl_opt={\n",
              "            cvId: '2',\n",
              "            cZone: 'altimetrik.udemy.com',\n",
              "            cType: 'managed',\n",
              "            cNounce: '42997',\n",
              "            cRay: '7923bbf53c8681ab',\n",
              "            cHash: '0c3560f9af0548b',\n",
              "            cUPMDTk: \"\\/join\\/login-popup\\/?next=\\/course\\/complete-python-bootcamp\\/learn\\/lecture\\/20345241&__cf_chl_tk=qH6jW35BZtNXVg8GgFPawwlS7fKwT6ftUVFuIlzFYIY-1675181602-0-gaNycGzNCJE\",\n",
              "            cFPWv: 'g',\n",
              "            cTTimeMs: '1000',\n",
              "            cMTimeMs: '0',\n",
              "            cTplV: 4,\n",
              "            cTplB: 'cf',\n",
              "            cRq: {\n",
              "                ru: 'aHR0cHM6Ly9hbHRpbWV0cmlrLnVkZW15LmNvbS9qb2luL2xvZ2luLXBvcHVwLz9uZXh0PS9jb3Vyc2UvY29tcGxldGUtcHl0aG9uLWJvb3RjYW1wL2xlYXJuL2xlY3R1cmUvMjAzNDUyNDE=',\n",
              "                ra: 'cHl0aG9uLXJlcXVlc3RzLzIuMjUuMQ==',\n",
              "                rm: 'R0VU',\n",
              "                d: 'OapGBTfswquZ+3QOLE+d1jAGvMurtZcXICzouhnwKGD+gdfg9rxWtm7zTVXUB23HHK+xaVm0LL3ROgdbCm5lXaW+ktAYMMsEtav/9MDzPbYOAjUtr7HW6Lc4fFxnxQzkglJj0Ce1yonUjauO2a7wBJrqjq9uRKfi7IM3pfbIYilej+1RxK2lTkpKtt8PnIPvIvYyGprraHtDOyHTd6WVSZnv3hsvEmFWrc7Rl7p+puVNVy5nnLcGWQXhWB94EX72nLUFVnKuT+g1zOKfRKvnA+zLij0jscNLXfWtFfs54wX5MLq19qGDBDC0rhN9Bn42K/oL2Nm4qF0TvqixUPFSSmAqI1WB4jxy/ePTbz1MEiSZstBKhJIE2jUh4MeYWFq6Ab2ENlpXc/iQpYd24dx5ng4JevHJZx4b5bOEDqTsywr/w4vI6GPDA18eYatdg7kWvNzAxCRYH02YK02CFwciBSm8MJaLTrh+p00V+VXSPiX64EmE9FT6wNgM/IJcZX0SDZxPw8Opobk6+Wr7kwLoAnpe95Gs/QppHcoOnXAVqfZgvzimUgefs/c8Ro2P7FkM9IyvVS6Dly52Ec+PqnTmMqO/U6JnFNLH3hijGTdsjUQ5ROmU05fk4beznkjtWQyCYdlJss+DlbiV557HmCYqATHBfUBHggcV99lfTvvfIrA=',\n",
              "                t: 'MTY3NTE4MTYwMi4xMTEwMDA=',\n",
              "                m: 'UKRe6U8xeFjrDpPRa7X3ugNyCK3nS3L1uQzSZhE6PK8=',\n",
              "                i1: 'P+14yhbZv+wL3t3RyRgSrA==',\n",
              "                i2: 'MhzwfIoTsDm6+jbP+BGEaA==',\n",
              "                zh: 'lCgCtu48rxtB80JFfWbGDUqLH52EIBQITbR8yEEV6tk=',\n",
              "                uh: '5GU+jYv2xJ+bCaE/ARmi/DORbiS/v56CW7E0TH4XWQk=',\n",
              "                hh: 'uVEc4i0DDJChrkIgcjtVPn+AX2/h4vHYConRzeV7ll8=',\n",
              "            }\n",
              "        };\n",
              "        var trkjs = document.createElement('img');\n",
              "        trkjs.setAttribute('src', '/cdn-cgi/images/trace/managed/js/transparent.gif?ray=7923bbf53c8681ab');\n",
              "        trkjs.setAttribute('alt', '');\n",
              "        trkjs.setAttribute('style', 'display: none');\n",
              "        document.body.appendChild(trkjs);\n",
              "        var cpo = document.createElement('script');\n",
              "        cpo.src = '/cdn-cgi/challenge-platform/h/g/orchestrate/managed/v1?ray=7923bbf53c8681ab';\n",
              "        window._cf_chl_opt.cOgUHash = location.hash === '' && location.href.indexOf('#') !== -1 ? '#' : location.hash;\n",
              "        window._cf_chl_opt.cOgUQuery = location.search === '' && location.href.slice(0, location.href.length - window._cf_chl_opt.cOgUHash.length).indexOf('?') !== -1 ? '?' : location.search;\n",
              "        if (window.history && window.history.replaceState) {\n",
              "            var ogU = location.pathname + window._cf_chl_opt.cOgUQuery + window._cf_chl_opt.cOgUHash;\n",
              "            history.replaceState(null, null, \"\\/join\\/login-popup\\/?next=\\/course\\/complete-python-bootcamp\\/learn\\/lecture\\/20345241&__cf_chl_rt_tk=qH6jW35BZtNXVg8GgFPawwlS7fKwT6ftUVFuIlzFYIY-1675181602-0-gaNycGzNCJE\" + window._cf_chl_opt.cOgUHash);\n",
              "            cpo.onload = function() {\n",
              "                history.replaceState(null, null, ogU);\n",
              "            };\n",
              "        }\n",
              "        document.getElementsByTagName('head')[0].appendChild(cpo);\n",
              "    }());\n",
              "</script>\n",
              "<div class=\"footer\" role=\"contentinfo\">\n",
              "<div class=\"footer-inner\">\n",
              "<div class=\"clearfix diagnostic-wrapper\">\n",
              "<div class=\"ray-id\">Ray ID: <code>7923bbf53c8681ab</code></div>\n",
              "</div>\n",
              "<div class=\"text-center\" id=\"footer-text\">Performance &amp; security by <a href=\"https://www.cloudflare.com?utm_source=challenge&amp;utm_campaign=m\" rel=\"noopener noreferrer\" target=\"_blank\">Cloudflare</a></div>\n",
              "</div>\n",
              "</div>\n",
              "</body>\n",
              "</html>"
            ]
          },
          "metadata": {},
          "execution_count": 4
        }
      ]
    },
    {
      "cell_type": "code",
      "source": [
        "soup.select(\"h2\")[0].getText()"
      ],
      "metadata": {
        "colab": {
          "base_uri": "https://localhost:8080/",
          "height": 36
        },
        "id": "ypJBxe_tniWl",
        "outputId": "20429414-7603-404c-d38a-d5bd95e6ab5e"
      },
      "execution_count": null,
      "outputs": [
        {
          "output_type": "execute_result",
          "data": {
            "text/plain": [
              "'\\n            Checking if the site connection is secure\\n        '"
            ],
            "application/vnd.google.colaboratory.intrinsic+json": {
              "type": "string"
            }
          },
          "metadata": {},
          "execution_count": 7
        }
      ]
    },
    {
      "cell_type": "code",
      "source": [],
      "metadata": {
        "id": "B9TrT8iTn3mW"
      },
      "execution_count": null,
      "outputs": []
    }
  ]
}